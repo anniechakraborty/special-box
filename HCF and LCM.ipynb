{
 "cells": [
  {
   "cell_type": "markdown",
   "metadata": {},
   "source": [
    "## HCF and LCM of two numbers"
   ]
  },
  {
   "cell_type": "code",
   "execution_count": 2,
   "metadata": {},
   "outputs": [
    {
     "name": "stdout",
     "output_type": "stream",
     "text": [
      "Enter the first number : 12\n",
      "Enter the second number : 20\n",
      "The HCF of 12 and 20 is 4 and the LCM of 12 and 20 is 60\n"
     ]
    }
   ],
   "source": [
    "num1 = int(input(\"Enter the first number : \"))\n",
    "num2 = int(input(\"Enter the second number : \"))\n",
    "x = num1; y = num2\n",
    "\n",
    "remainder = x % y\n",
    "while remainder != 0:\n",
    "    x = y\n",
    "    y = remainder\n",
    "    remainder = x % y\n",
    "\n",
    "hcf = y\n",
    "lcm = int(num1 * num2 / hcf)\n",
    "\n",
    "print(f'The HCF of {num1} and {num2} is {hcf} and the LCM of {num1} and {num2} is {lcm}')"
   ]
  },
  {
   "cell_type": "code",
   "execution_count": null,
   "metadata": {},
   "outputs": [],
   "source": []
  }
 ],
 "metadata": {
  "kernelspec": {
   "display_name": "Python 3",
   "language": "python",
   "name": "python3"
  },
  "language_info": {
   "codemirror_mode": {
    "name": "ipython",
    "version": 3
   },
   "file_extension": ".py",
   "mimetype": "text/x-python",
   "name": "python",
   "nbconvert_exporter": "python",
   "pygments_lexer": "ipython3",
   "version": "3.7.6"
  }
 },
 "nbformat": 4,
 "nbformat_minor": 4
}
