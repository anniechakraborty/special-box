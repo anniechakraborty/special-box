{
 "cells": [
  {
   "cell_type": "markdown",
   "metadata": {},
   "source": [
    "# Prime Fibonacci Numbers\n",
    "Print all the prime fibonacci numbers upto a given term"
   ]
  },
  {
   "cell_type": "code",
   "execution_count": 15,
   "metadata": {},
   "outputs": [],
   "source": [
    "import math\n",
    "def checkPrime(num):\n",
    "    i = 2\n",
    "    c = 0\n",
    "    while i <= math.sqrt(num):\n",
    "        if num % i == 0:\n",
    "            c = c + 1\n",
    "            break\n",
    "        i = i + 1\n",
    "    if num == 1:\n",
    "        return False\n",
    "    elif c != 0:\n",
    "        return False\n",
    "    else:\n",
    "        return True"
   ]
  },
  {
   "cell_type": "code",
   "execution_count": 16,
   "metadata": {},
   "outputs": [],
   "source": [
    "def inputFunc():\n",
    "    n = 0\n",
    "    while n <= 0:\n",
    "        n = int(input(\"Enter the number of terms : \"))\n",
    "    return n"
   ]
  },
  {
   "cell_type": "code",
   "execution_count": 17,
   "metadata": {},
   "outputs": [
    {
     "name": "stdout",
     "output_type": "stream",
     "text": [
      "Enter the number of terms : 50\n",
      "2 is a Prime Fibonnaci number\n",
      "3 is a Prime Fibonnaci number\n",
      "5 is a Prime Fibonnaci number\n",
      "13 is a Prime Fibonnaci number\n",
      "89 is a Prime Fibonnaci number\n",
      "233 is a Prime Fibonnaci number\n",
      "1597 is a Prime Fibonnaci number\n",
      "28657 is a Prime Fibonnaci number\n",
      "514229 is a Prime Fibonnaci number\n",
      "433494437 is a Prime Fibonnaci number\n",
      "2971215073 is a Prime Fibonnaci number\n"
     ]
    }
   ],
   "source": [
    "numberOfTerms = inputFunc()\n",
    "\n",
    "def checkPrimeFibonnaci(numberOfTerms):\n",
    "    firstTerm = 0\n",
    "    secondTerm = 1\n",
    "    i = 1\n",
    "    while i <= numberOfTerms:\n",
    "        nextTerm = firstTerm + secondTerm\n",
    "        firstTerm = secondTerm\n",
    "        secondTerm = nextTerm\n",
    "        if checkPrime(nextTerm) == True:\n",
    "            print(f'{nextTerm} is a Prime Fibonnaci number')\n",
    "        i = i + 1\n",
    "\n",
    "checkPrimeFibonnaci(numberOfTerms)"
   ]
  },
  {
   "cell_type": "code",
   "execution_count": null,
   "metadata": {},
   "outputs": [],
   "source": []
  }
 ],
 "metadata": {
  "kernelspec": {
   "display_name": "Python 3",
   "language": "python",
   "name": "python3"
  },
  "language_info": {
   "codemirror_mode": {
    "name": "ipython",
    "version": 3
   },
   "file_extension": ".py",
   "mimetype": "text/x-python",
   "name": "python",
   "nbconvert_exporter": "python",
   "pygments_lexer": "ipython3",
   "version": "3.7.6"
  }
 },
 "nbformat": 4,
 "nbformat_minor": 4
}
