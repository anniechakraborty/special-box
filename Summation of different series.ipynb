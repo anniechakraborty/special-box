{
 "cells": [
  {
   "cell_type": "markdown",
   "metadata": {},
   "source": [
    "# Sum of the terms of different series\n",
    "\n",
    "Write a program to input a positive number of terms n (1-30) and find out the sums of the following series:"
   ]
  },
  {
   "cell_type": "code",
   "execution_count": 9,
   "metadata": {},
   "outputs": [],
   "source": [
    "def numberOfTermsInput():\n",
    "    n = 0\n",
    "    while n < 1 or n > 30:\n",
    "        n = int(input(\"Enter the number of terms (1-30) : \"))\n",
    "    return n"
   ]
  },
  {
   "cell_type": "markdown",
   "metadata": {},
   "source": [
    "sum = 1 + 2 + 3 + 4 + ... + n"
   ]
  },
  {
   "cell_type": "code",
   "execution_count": 10,
   "metadata": {},
   "outputs": [
    {
     "name": "stdout",
     "output_type": "stream",
     "text": [
      "Enter the number of terms (1-30) : 10\n",
      "The sum of the series 1 + 2 + 3 + ... + 10 is = 55\n"
     ]
    }
   ],
   "source": [
    "numberOfTerms = numberOfTermsInput()\n",
    "summation = 0\n",
    "\n",
    "for i in range(1, numberOfTerms + 1):\n",
    "    summation += i\n",
    "\n",
    "print(\"The sum of the series 1 + 2 + 3 + ... + {} is = {}\".format(numberOfTerms, summation))"
   ]
  },
  {
   "cell_type": "markdown",
   "metadata": {},
   "source": [
    "sum = n + (n - 2) + (n - 4) + ... + 2 or 1 depending on whether n is even or odd"
   ]
  },
  {
   "cell_type": "code",
   "execution_count": 11,
   "metadata": {},
   "outputs": [
    {
     "name": "stdout",
     "output_type": "stream",
     "text": [
      "Enter the number of terms (1-30) : 10\n",
      "The sum of the series 10 + (10 - 2) + (10 - 4) + ... is = 30\n"
     ]
    }
   ],
   "source": [
    "numberOfTerms = numberOfTermsInput()\n",
    "n = numberOfTerms\n",
    "summation = 0\n",
    "\n",
    "while numberOfTerms >= 1:\n",
    "    summation += numberOfTerms\n",
    "    numberOfTerms -= 2\n",
    "\n",
    "print(f'The sum of the series {n} + ({n} - 2) + ({n} - 4) + ... is = {summation}')"
   ]
  },
  {
   "cell_type": "markdown",
   "metadata": {},
   "source": [
    "sum = 1 X 1 + 2 X 2 + 3 X 3+ ... + n X n"
   ]
  },
  {
   "cell_type": "code",
   "execution_count": 12,
   "metadata": {},
   "outputs": [
    {
     "name": "stdout",
     "output_type": "stream",
     "text": [
      "Enter the number of terms (1-30) : 10\n",
      "The sum of the series 1 X 1 + 2 X 2 + 3 X 3+ ... + 10 X 10 is = 385\n"
     ]
    }
   ],
   "source": [
    "numberOfTerms = numberOfTermsInput()\n",
    "summation = 0\n",
    "\n",
    "for i in range(1, numberOfTerms + 1):\n",
    "    summation += i*i\n",
    "\n",
    "print(f'The sum of the series 1 X 1 + 2 X 2 + 3 X 3+ ... + {numberOfTerms} X {numberOfTerms} is = {summation}')"
   ]
  },
  {
   "cell_type": "markdown",
   "metadata": {},
   "source": [
    "sum = 1 - 2 + 3 -4 + ... +/- n depending on whether n is odd or even"
   ]
  },
  {
   "cell_type": "code",
   "execution_count": 18,
   "metadata": {},
   "outputs": [
    {
     "name": "stdout",
     "output_type": "stream",
     "text": [
      "Enter the number of terms (1-30) : 10\n",
      "The sum of the series 1 - 2 + 3 -4 + ... - 10 is = -5\n"
     ]
    }
   ],
   "source": [
    "numberOfTerms = numberOfTermsInput()\n",
    "summation = 0\n",
    "sign = 1\n",
    "\n",
    "for i in range(1, numberOfTerms + 1):\n",
    "    summation += i*sign\n",
    "    sign *= -1\n",
    "\n",
    "if numberOfTerms % 2 == 0:\n",
    "    print(f'The sum of the series 1 - 2 + 3 -4 + ... - {numberOfTerms} is = {summation}')\n",
    "else:\n",
    "    print(f'The sum of the series 1 - 2 + 3 -4 + ... + {numberOfTerms} is = {summation}')"
   ]
  },
  {
   "cell_type": "markdown",
   "metadata": {},
   "source": [
    "sum = 1 + (1 + 2) + (1 + 2 + 3) + ... + (1 + 2 + 3 + ... + n)"
   ]
  },
  {
   "cell_type": "code",
   "execution_count": 19,
   "metadata": {},
   "outputs": [
    {
     "name": "stdout",
     "output_type": "stream",
     "text": [
      "Enter the number of terms (1-30) : 10\n",
      "The sum of the series 1 + (1 + 2) + (1 + 2 + 3) + ... + (1 + 2 + 3 + ... + 10) is = 220\n"
     ]
    }
   ],
   "source": [
    "numberOfTerms = numberOfTermsInput()\n",
    "summation = 0\n",
    "\n",
    "for i in range(1, numberOfTerms + 1):\n",
    "    for j in range(1, i + 1):\n",
    "        summation += j\n",
    "\n",
    "print(f'The sum of the series 1 + (1 + 2) + (1 + 2 + 3) + ... + (1 + 2 + 3 + ... + {numberOfTerms}) is = {summation}')"
   ]
  },
  {
   "cell_type": "markdown",
   "metadata": {},
   "source": [
    "Will come back with more!"
   ]
  }
 ],
 "metadata": {
  "kernelspec": {
   "display_name": "Python 3",
   "language": "python",
   "name": "python3"
  },
  "language_info": {
   "codemirror_mode": {
    "name": "ipython",
    "version": 3
   },
   "file_extension": ".py",
   "mimetype": "text/x-python",
   "name": "python",
   "nbconvert_exporter": "python",
   "pygments_lexer": "ipython3",
   "version": "3.7.6"
  }
 },
 "nbformat": 4,
 "nbformat_minor": 4
}
